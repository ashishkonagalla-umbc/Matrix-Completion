{
  "nbformat": 4,
  "nbformat_minor": 0,
  "metadata": {
    "colab": {
      "provenance": []
    },
    "kernelspec": {
      "name": "python3",
      "display_name": "Python 3"
    },
    "language_info": {
      "name": "python"
    }
  },
  "cells": [
    {
      "cell_type": "code",
      "execution_count": 1,
      "metadata": {
        "colab": {
          "base_uri": "https://localhost:8080/"
        },
        "id": "EqqduzDi1O07",
        "outputId": "4542ee04-a37a-4d15-8320-c440e7944682"
      },
      "outputs": [
        {
          "output_type": "stream",
          "name": "stdout",
          "text": [
            "Mounted at /content/drive\n"
          ]
        }
      ],
      "source": [
        "from google.colab import drive\n",
        "drive.mount('/content/drive')"
      ]
    },
    {
      "cell_type": "code",
      "source": [
        "import numpy as np\n",
        "import pandas as pd\n",
        "from scipy.linalg import svd\n",
        "from sklearn.metrics import mean_squared_error, mean_absolute_error"
      ],
      "metadata": {
        "id": "qNlIWE9Y1Qym"
      },
      "execution_count": 2,
      "outputs": []
    },
    {
      "cell_type": "code",
      "source": [
        "# Path to the dataset\n",
        "ratings_path = '/content/drive/My Drive/MatrixCompletion/ratings.csv'\n",
        "movies_path = '/content/drive/My Drive/MatrixCompletion/movies.csv'\n",
        "tags_path = '/content/drive/My Drive/MatrixCompletion/tags.csv'\n",
        "links_path = '/content/drive/My Drive/MatrixCompletion/links.csv'\n",
        "\n",
        "# Load the dataset\n",
        "ratings = pd.read_csv(ratings_path)\n",
        "movies = pd.read_csv(movies_path)\n",
        "tags = pd.read_csv(tags_path)\n",
        "links = pd.read_csv(links_path)"
      ],
      "metadata": {
        "id": "jOukaqfqZaCU"
      },
      "execution_count": 4,
      "outputs": []
    },
    {
      "cell_type": "code",
      "source": [
        "# Create the ratings matrix (rows: users, columns: movies)\n",
        "ratings_matrix = ratings.pivot(index='userId', columns='movieId', values='rating')\n",
        "ratings_array = ratings_matrix.values"
      ],
      "metadata": {
        "id": "GHaSgNaf1kAC"
      },
      "execution_count": 5,
      "outputs": []
    },
    {
      "cell_type": "code",
      "source": [
        "# M# Mask for observed entries\n",
        "observed_mask = ~np.isnan(ratings_array)"
      ],
      "metadata": {
        "id": "qqBtB7gN1mxR"
      },
      "execution_count": 6,
      "outputs": []
    },
    {
      "cell_type": "code",
      "source": [
        "# Fill NaN values with zeros for initialization\n",
        "ratings_array[np.isnan(ratings_array)] = 0"
      ],
      "metadata": {
        "id": "IVEgdiUK1okv"
      },
      "execution_count": 7,
      "outputs": []
    },
    {
      "cell_type": "code",
      "source": [
        "# ADMM Parameters\n",
        "lambda_reg = 0.1  # Regularization parameter\n",
        "rho = 1.0  # Augmented Lagrangian parameter\n",
        "max_iter = 100  # Maximum iterations\n",
        "tol = 1e-4  # Convergence tolerance"
      ],
      "metadata": {
        "id": "BzJpXEoD2luw"
      },
      "execution_count": 8,
      "outputs": []
    },
    {
      "cell_type": "code",
      "source": [
        "# Initialize variables\n",
        "X = np.copy(ratings_array)  # The completed matrix\n",
        "Y = np.zeros_like(ratings_array)  # Dual variable\n",
        "Z = np.zeros_like(ratings_array)  # Auxiliary variable"
      ],
      "metadata": {
        "id": "4vo9nFHJ2ol7"
      },
      "execution_count": 9,
      "outputs": []
    },
    {
      "cell_type": "code",
      "source": [
        "# ADMM iterations\n",
        "for iteration in range(max_iter):\n",
        "    # Update X (minimization step for the observed entries)\n",
        "    X = np.where(observed_mask, (ratings_array + rho * (Z - Y)) / (1 + rho), Z - Y)\n",
        "\n",
        "    # Update Z (proximal step for nuclear norm minimization)\n",
        "    U, S, Vt = np.linalg.svd(X + Y, full_matrices=False)\n",
        "    S_thresholded = np.maximum(S - lambda_reg / rho, 0)  # Shrinkage\n",
        "    Z = U @ np.diag(S_thresholded) @ Vt\n",
        "\n",
        "    # Update Y (dual variable update)\n",
        "    Y += X - Z\n",
        "\n",
        "    # Check convergence\n",
        "    error = np.linalg.norm(X - Z, ord='fro') / np.linalg.norm(X, ord='fro')\n",
        "    if error < tol:\n",
        "        print(f\"Converged in {iteration + 1} iterations\")\n",
        "        break"
      ],
      "metadata": {
        "colab": {
          "base_uri": "https://localhost:8080/"
        },
        "id": "pH7-ljkV2oid",
        "outputId": "a8f82f5d-218b-4487-ceb8-30ad6cf46ae1"
      },
      "execution_count": 10,
      "outputs": [
        {
          "output_type": "stream",
          "name": "stdout",
          "text": [
            "Converged in 2 iterations\n"
          ]
        }
      ]
    },
    {
      "cell_type": "code",
      "source": [
        "# Clip predictions to the valid range [0.5, 5.0]\n",
        "completed_matrix = np.clip(Z, 0.5, 5.0)\n",
        "\n",
        "# Test mask (20% of observed entries)\n",
        "np.random.seed(42)\n",
        "train_mask = observed_mask & (np.random.rand(*ratings_array.shape) > 0.2)\n",
        "test_mask = observed_mask & ~train_mask\n",
        "\n",
        "# Extract predictions and actual values for the test set\n",
        "test_predictions = completed_matrix[test_mask]\n",
        "actual_test_ratings = ratings_array[test_mask]\n",
        "\n",
        "# Compute RMSE and MAE\n",
        "rmse = np.sqrt(mean_squared_error(actual_test_ratings, test_predictions))\n",
        "mae = mean_absolute_error(actual_test_ratings, test_predictions)\n",
        "\n",
        "print(f\"ADMM Nuclear Norm Minimization RMSE: {rmse:.4f}\")\n",
        "print(f\"ADMM Nuclear Norm Minimization MAE: {mae:.4f}\")"
      ],
      "metadata": {
        "colab": {
          "base_uri": "https://localhost:8080/"
        },
        "id": "wbxa9SKH2ogL",
        "outputId": "bb8fe5b2-ce95-4262-ac5c-96611f1a9287"
      },
      "execution_count": 11,
      "outputs": [
        {
          "output_type": "stream",
          "name": "stdout",
          "text": [
            "ADMM Nuclear Norm Minimization RMSE: 0.9211\n",
            "ADMM Nuclear Norm Minimization MAE: 0.8818\n"
          ]
        }
      ]
    }
  ]
}